{
  "nbformat": 4,
  "nbformat_minor": 0,
  "metadata": {
    "colab": {
      "private_outputs": true,
      "provenance": [],
      "collapsed_sections": [
        "vncDsAP0Gaoa",
        "FJNUwmbgGyua",
        "w6K7xa23Elo4",
        "yQaldy8SH6Dl",
        "PH-0ReGfmX4f",
        "mDgbUHAGgjLW",
        "O_i_v8NEhb9l",
        "HhfV-JJviCcP",
        "Y3lxredqlCYt",
        "3RnN4peoiCZX",
        "x71ZqKXriCWQ",
        "7hBIi_osiCS2",
        "JlHwYmJAmNHm",
        "35m5QtbWiB9F",
        "PoPl-ycgm1ru",
        "H0kj-8xxnORC",
        "nA9Y7ga8ng1Z",
        "PBTbrJXOngz2",
        "u3PMJOP6ngxN",
        "dauF4eBmngu3",
        "bKJF3rekwFvQ",
        "MSa1f5Uengrz",
        "GF8Ens_Soomf",
        "0wOQAZs5pc--",
        "K5QZ13OEpz2H",
        "lQ7QKXXCp7Bj",
        "448CDAPjqfQr",
        "KSlN3yHqYklG",
        "t6dVpIINYklI",
        "ijmpgYnKYklI",
        "-JiQyfWJYklI",
        "EM7whBJCYoAo",
        "fge-S5ZAYoAp",
        "85gYPyotYoAp",
        "RoGjAbkUYoAp",
        "4Of9eVA-YrdM",
        "iky9q4vBYrdO",
        "F6T5p64dYrdO",
        "y-Ehk30pYrdP",
        "bamQiAODYuh1",
        "QHF8YVU7Yuh3",
        "GwzvFGzlYuh3",
        "qYpmQ266Yuh3",
        "OH-pJp9IphqM",
        "bbFf2-_FphqN",
        "_ouA3fa0phqN",
        "Seke61FWphqN",
        "PIIx-8_IphqN",
        "t27r6nlMphqO",
        "r2jJGEOYphqO",
        "b0JNsNcRphqO",
        "BZR9WyysphqO",
        "jj7wYXLtphqO",
        "eZrbJ2SmphqO",
        "rFu4xreNphqO",
        "YJ55k-q6phqO",
        "gCFgpxoyphqP",
        "OVtJsKN_phqQ",
        "lssrdh5qphqQ",
        "U2RJ9gkRphqQ",
        "1M8mcRywphqQ",
        "tgIPom80phqQ",
        "JMzcOPDDphqR",
        "x-EpHcCOp1ci",
        "X_VqEhTip1ck",
        "8zGJKyg5p1ck",
        "PVzmfK_Ep1ck",
        "n3dbpmDWp1ck",
        "ylSl6qgtp1ck",
        "ZWILFDl5p1ck",
        "M7G43BXep1ck",
        "Ag9LCva-p1cl",
        "E6MkPsBcp1cl",
        "2cELzS2fp1cl",
        "3MPXvC8up1cl",
        "NC_X3p0fY2L0",
        "UV0SzAkaZNRQ",
        "YPEH6qLeZNRQ",
        "q29F0dvdveiT",
        "EXh0U9oCveiU",
        "22aHeOlLveiV",
        "JcMwzZxoAimU",
        "8G2x9gOozGDZ",
        "gCX9965dhzqZ",
        "gIfDvo9L0UH2"
      ],
      "include_colab_link": true
    },
    "kernelspec": {
      "name": "python3",
      "display_name": "Python 3"
    },
    "language_info": {
      "name": "python"
    }
  },
  "cells": [
    {
      "cell_type": "markdown",
      "metadata": {
        "id": "view-in-github",
        "colab_type": "text"
      },
      "source": [
        "<a href=\"https://colab.research.google.com/github/DEEP34S/Capstone-project-introduction-of-computer-programming/blob/main/Another_copy_of_Sample_EDA_Submission_Template.ipynb\" target=\"_parent\"><img src=\"https://colab.research.google.com/assets/colab-badge.svg\" alt=\"Open In Colab\"/></a>"
      ]
    },
    {
      "cell_type": "markdown",
      "source": [
        "\n",
        "# **Project Name**    - Hotel Booking Analysis  EDA using Python\n",
        "\n"
      ],
      "metadata": {
        "id": "vncDsAP0Gaoa"
      }
    },
    {
      "cell_type": "markdown",
      "source": [
        "\n",
        "##### **Project Type**    - EDA\n",
        "##### **Contribution**    - Individual"
      ],
      "metadata": {
        "id": "beRrZCGUAJYm"
      }
    },
    {
      "cell_type": "markdown",
      "source": [
        "# **Project Summary -**"
      ],
      "metadata": {
        "id": "FJNUwmbgGyua"
      }
    },
    {
      "cell_type": "markdown",
      "source": [
        "Almabetter Hotel Booking EDA Project using Python. Hotel booking analysis with AlmabetterEDA This project relates to hotel reservation and includes a variety of city hotels and resort hotels.There are 32 columns and a total of 119390 rows in this dataset.Data collection,data cleansing and manipulation, and EDA(experimental Data Analysis) are the three categories into which the workfloe for data manipulation is divided. The names of some of the colummns,including hotel is_canceled,lead_time,arrival_date_year,arrival_date_month,arrival_date_week,arrrival_date-day_of_month,and stays_in_weekend_nights,have been updated as the data collection process has progressed.This is done by coding Headd(),Tail(),info(),describe(),columns(),and other methods used for data collection.As we proceed,we identify the distinct value for each column,create a list in tabular format,and also verify the dataset type of each column.Identify some columns with inaccurate data types and fix them afterward.As we discover duplicate items totaling 87396,which are later discarded from the dataset,duplicate data items must also be removed during the data cleaning phase.\n",
        "\n",
        "We must first perform data manipulation before visulizing any data source.To do that,we examined each columns's null value.After checking,drop the column using the 'drop'method if we find one that has a greater percentage of null values.We are so removed from the 'company'column.When there are only a few null values,we fill those null values with the necessary values using the formula.fill()\n",
        "\n",
        "To achieve greater uderstanding and business goals,many charts are utilized for data visualization."
      ],
      "metadata": {
        "id": "F6v_1wHtG2nS"
      }
    },
    {
      "cell_type": "markdown",
      "source": [
        "# **GitHub Link -**"
      ],
      "metadata": {
        "id": "w6K7xa23Elo4"
      }
    },
    {
      "cell_type": "markdown",
      "source": [
        "[Github link of mine]-\n",
        "\n",
        "PPT Link-https://drive.google.com/file/d/1C9AxF9fcVzMw0Bgs0NaRrNML2WwX1Ehm/view?usp=sharing"
      ],
      "metadata": {
        "id": "h1o69JH3Eqqn"
      }
    },
    {
      "cell_type": "markdown",
      "source": [
        "# **Problem Statement**\n"
      ],
      "metadata": {
        "id": "yQaldy8SH6Dl"
      }
    },
    {
      "cell_type": "markdown",
      "source": [
        "\n",
        "Have you ever thought the Ideal season of the year to reserve a hotel?Alternatlvely,how long should i remain to get the greatest  daily rate?What if you wanted to foretell ehether a hotel would unreasonably frequently recive unususal requests? You  can investlgate those questions using the data from hotel reservations!This data collections comprises reservation details for a city hotel and a resort hotel, as well as details like the date the reservation was made,the duration of the stay, the number of adults,kids,and/or babies,and the number of parking spaces that are available.The data is devoid of any information that may be used to identify a specific person.Investigate and evaluate the information to find crucial elements that control reservations.\n"
      ],
      "metadata": {
        "id": "DpeJGUA3kjGy"
      }
    },
    {
      "cell_type": "markdown",
      "source": [
        "#### **Define Your Business Objective?**"
      ],
      "metadata": {
        "id": "PH-0ReGfmX4f"
      }
    },
    {
      "cell_type": "markdown",
      "source": [
        "Analyse the reservation data for the city Hotel and Resort Hotel to learn more about the various elements that influence a reservation.This is being done as a solo project."
      ],
      "metadata": {
        "id": "PhDvGCAqmjP1"
      }
    },
    {
      "cell_type": "markdown",
      "source": [
        "# **General Guidelines** : -  "
      ],
      "metadata": {
        "id": "mDgbUHAGgjLW"
      }
    },
    {
      "cell_type": "markdown",
      "source": [
        "1.   Well-structured, formatted, and commented code is required.\n",
        "2.   Exception Handling, Production Grade Code & Deployment Ready Code will be a plus. Those students will be awarded some additional credits.\n",
        "     \n",
        "     The additional credits will have advantages over other students during Star Student selection.\n",
        "       \n",
        "             [ Note: - Deployment Ready Code is defined as, the whole .ipynb notebook should be executable in one go\n",
        "                       without a single error logged. ]\n",
        "\n",
        "3.   Each and every logic should have proper comments.\n",
        "4. You may add as many number of charts you want. Make Sure for each and every chart the following format should be answered.\n",
        "        \n",
        "\n",
        "```\n",
        "# Chart visualization code\n",
        "```\n",
        "            \n",
        "\n",
        "*   Why did you pick the specific chart?\n",
        "*   What is/are the insight(s) found from the chart?\n",
        "* Will the gained insights help creating a positive business impact?\n",
        "Are there any insights that lead to negative growth? Justify with specific reason.\n",
        "\n",
        "5. You have to create at least 20 logical & meaningful charts having important insights.\n",
        "\n",
        "\n",
        "[ Hints : - Do the Vizualization in  a structured way while following \"UBM\" Rule.\n",
        "\n",
        "U - Univariate Analysis,\n",
        "\n",
        "B - Bivariate Analysis (Numerical - Categorical, Numerical - Numerical, Categorical - Categorical)\n",
        "\n",
        "M - Multivariate Analysis\n",
        " ]\n",
        "\n",
        "\n",
        "\n"
      ],
      "metadata": {
        "id": "ZrxVaUj-hHfC"
      }
    },
    {
      "cell_type": "markdown",
      "source": [
        "# ***Let's Begin !***"
      ],
      "metadata": {
        "id": "O_i_v8NEhb9l"
      }
    },
    {
      "cell_type": "markdown",
      "source": [
        "## ***1. Know Your Data***"
      ],
      "metadata": {
        "id": "HhfV-JJviCcP"
      }
    },
    {
      "cell_type": "markdown",
      "source": [
        "### Import Libraries"
      ],
      "metadata": {
        "id": "Y3lxredqlCYt"
      }
    },
    {
      "cell_type": "code",
      "source": [
        "# Import Libraries\n",
        "\n",
        "import numpy as np"
      ],
      "metadata": {
        "id": "M8Vqi-pPk-HR"
      },
      "execution_count": null,
      "outputs": []
    },
    {
      "cell_type": "code",
      "source": [
        "import pandas as pd"
      ],
      "metadata": {
        "id": "46pwz7zPMzuj"
      },
      "execution_count": null,
      "outputs": []
    },
    {
      "cell_type": "code",
      "source": [
        "import matplotlib.pyplot as plt\n",
        "%matplotlib inline"
      ],
      "metadata": {
        "id": "ENO4NJE1M9ZD"
      },
      "execution_count": null,
      "outputs": []
    },
    {
      "cell_type": "code",
      "source": [
        "pip install seaborn"
      ],
      "metadata": {
        "id": "tgquU8gkNOod"
      },
      "execution_count": null,
      "outputs": []
    },
    {
      "cell_type": "code",
      "source": [
        "pip install os-sys"
      ],
      "metadata": {
        "id": "ODy_fwnfNj1L"
      },
      "execution_count": null,
      "outputs": []
    },
    {
      "cell_type": "code",
      "source": [
        "from datetime import datetime\n",
        "import seaborn as sns\n",
        "import ast"
      ],
      "metadata": {
        "id": "f28bJ5t_N1Dr"
      },
      "execution_count": null,
      "outputs": []
    },
    {
      "cell_type": "code",
      "source": [
        "from google.colab import drive\n",
        "drive.mount('/content/drive')\n"
      ],
      "metadata": {
        "id": "rl-u8ABTZDA2"
      },
      "execution_count": null,
      "outputs": []
    },
    {
      "cell_type": "code",
      "source": [
        "!ls '/content/drive/My Drive/'"
      ],
      "metadata": {
        "id": "9HvA_EcpsQPG"
      },
      "execution_count": null,
      "outputs": []
    },
    {
      "cell_type": "code",
      "source": [
        "!pip install pydrive"
      ],
      "metadata": {
        "id": "kguDrYIBuDxU"
      },
      "execution_count": null,
      "outputs": []
    },
    {
      "cell_type": "code",
      "source": [
        "from pydrive.auth import GoogleAuth\n",
        "from pydrive.drive import GoogleDrive\n",
        "from google.colab import auth\n",
        "from oauth2client.client import GoogleCredentials\n",
        "import pandas as pd"
      ],
      "metadata": {
        "id": "RDm_UbPNuFUL"
      },
      "execution_count": null,
      "outputs": []
    },
    {
      "cell_type": "code",
      "source": [
        "auth.authenticate_user()\n",
        "gauth = GoogleAuth()\n",
        "gauth.credentials = GoogleCredentials.get_application_default()\n",
        "drive = GoogleDrive(gauth)"
      ],
      "metadata": {
        "id": "k5heM7xEuJJ7"
      },
      "execution_count": null,
      "outputs": []
    },
    {
      "cell_type": "code",
      "source": [
        "database_id = '1DLjRFlIUFq3LjlEgiYz8X8N2wF6Od4yA'\n",
        "downloaded = drive.CreateFile({'id': database_id})\n",
        "downloaded.GetContentFile('hotel_booking_df.csv')"
      ],
      "metadata": {
        "id": "-Mj3y0jnuLf7"
      },
      "execution_count": null,
      "outputs": []
    },
    {
      "cell_type": "code",
      "source": [
        "hotel_booking_df = pd.read_csv('hotel_booking_df.csv')"
      ],
      "metadata": {
        "id": "giWrAS6YuOa0"
      },
      "execution_count": null,
      "outputs": []
    },
    {
      "cell_type": "code",
      "source": [
        "print(hotel_booking_df.head())"
      ],
      "metadata": {
        "id": "1X809sZYuRlE"
      },
      "execution_count": null,
      "outputs": []
    },
    {
      "cell_type": "markdown",
      "source": [
        "### Dataset Loading"
      ],
      "metadata": {
        "id": "3RnN4peoiCZX"
      }
    },
    {
      "cell_type": "markdown",
      "source": [
        "### Dataset First View"
      ],
      "metadata": {
        "id": "x71ZqKXriCWQ"
      }
    },
    {
      "cell_type": "code",
      "source": [
        "# Dataset First Look\n",
        "hotel_booking_df"
      ],
      "metadata": {
        "id": "LWNFOSvLl09H"
      },
      "execution_count": null,
      "outputs": []
    },
    {
      "cell_type": "markdown",
      "source": [
        "DATASET LINK:- https://drive.google.com/file/d/1DLjRFlIUFq3LjlEgiYz8X8N2wF6Od4yA/view?usp=drive_link\n",
        "\n",
        "# Dataset Loading"
      ],
      "metadata": {
        "id": "nRff8diDvb8Q"
      }
    },
    {
      "cell_type": "markdown",
      "source": [
        "### Dataset Rows & Columns count"
      ],
      "metadata": {
        "id": "7hBIi_osiCS2"
      }
    },
    {
      "cell_type": "code",
      "source": [
        "# Dataset Rows & Columns count\n",
        "print(hotel_booking_df.index)\n",
        "print('\\n \\n')\n",
        "print(hotel_booking_df.columns)"
      ],
      "metadata": {
        "id": "Kllu7SJgmLij"
      },
      "execution_count": null,
      "outputs": []
    },
    {
      "cell_type": "markdown",
      "source": [
        "### Dataset Information"
      ],
      "metadata": {
        "id": "JlHwYmJAmNHm"
      }
    },
    {
      "cell_type": "code",
      "source": [
        "# Dataset Info\n",
        "hotel_booking_df.info()"
      ],
      "metadata": {
        "id": "e9hRXRi6meOf"
      },
      "execution_count": null,
      "outputs": []
    },
    {
      "cell_type": "markdown",
      "source": [
        "#### Duplicate Values"
      ],
      "metadata": {
        "id": "35m5QtbWiB9F"
      }
    },
    {
      "cell_type": "code",
      "source": [
        "# Dataset Duplicate Value Count, to remove these values, we use function drop.duplicate to delete duplicate rows\n",
        "hotel_booking_df.drop_duplicates(inplace = True)\n",
        "\n",
        "uni_num_of_rows = len(hotel_booking_df)\n",
        "\n",
        "# total rows = 119390, Duplicate rows =31994\n",
        "uni_num_of_rows - hotel_booking_df.shape[0]\n",
        "\n",
        "uni_num_of_rows #now unique rows =87396"
      ],
      "metadata": {
        "id": "1sLdpKYkmox0"
      },
      "execution_count": null,
      "outputs": []
    },
    {
      "cell_type": "code",
      "source": [
        "hotel_booking_df.reset_index() #**View unique data**"
      ],
      "metadata": {
        "id": "fjQTOwOUzBoK"
      },
      "execution_count": null,
      "outputs": []
    },
    {
      "cell_type": "markdown",
      "source": [
        "#### Missing Values/Null Values"
      ],
      "metadata": {
        "id": "PoPl-ycgm1ru"
      }
    },
    {
      "cell_type": "code",
      "source": [
        "# Missing Values/Null Values Count\n",
        "null_values = hotel_booking_df.isnull().sum()\n",
        "hotel_booking_df.fillna(np.nan, inplace=True)\n",
        "\n",
        "hotel_booking_df # we replace all the null value as NaN"
      ],
      "metadata": {
        "id": "KxFvTq7d0Q0K"
      },
      "execution_count": null,
      "outputs": []
    },
    {
      "cell_type": "code",
      "source": [
        "# Visualizing the missing values\n",
        "miss_values = hotel_booking_df.isnull().sum().sort_values(ascending=False)\n",
        "miss_values # we have check the count of null values in individual columns"
      ],
      "metadata": {
        "id": "3q5wnI3om9sJ"
      },
      "execution_count": null,
      "outputs": []
    },
    {
      "cell_type": "markdown",
      "source": [
        "### What did you know about your dataset?"
      ],
      "metadata": {
        "id": "H0kj-8xxnORC"
      }
    },
    {
      "cell_type": "markdown",
      "source": [
        "A single file in this data collection analyses different booking details between two hotels: a city hotel and a resort hotel.includes details like the date the resesrvation was made, the number of people staying,the number of adult, kids ,and/or babies,and the number of parking spaces available,among other things.There are 32 columns and 119390 rows in the entire datase.Dataset contains duplicate items suvh as 31944,which is later  removed.Every column in this dataset has a data type, such as an integer,a float,or a text.We note that some of these data types are inaccurate and eliminate those columns afterward.We calculate the distinct value for each column,which represents the actual values foe rach column."
      ],
      "metadata": {
        "id": "gfoNAAC-nUe_"
      }
    },
    {
      "cell_type": "markdown",
      "source": [
        "## ***2. Understanding Your Variables***"
      ],
      "metadata": {
        "id": "nA9Y7ga8ng1Z"
      }
    },
    {
      "cell_type": "code",
      "source": [
        "# Dataset Columns\n",
        "df_column = hotel_booking_df.columns\n",
        "df_column\n"
      ],
      "metadata": {
        "id": "j7xfkqrt5Ag5"
      },
      "execution_count": null,
      "outputs": []
    },
    {
      "cell_type": "code",
      "source": [
        "# Dataset Describe\n",
        "hotel_booking_df.describe()"
      ],
      "metadata": {
        "id": "DnOaZdaE5Q5t"
      },
      "execution_count": null,
      "outputs": []
    },
    {
      "cell_type": "markdown",
      "source": [
        "### Variables Description"
      ],
      "metadata": {
        "id": "PBTbrJXOngz2"
      }
    },
    {
      "cell_type": "markdown",
      "source": [
        "\n",
        "# Description of individual Variable\n",
        "\n",
        "**The columns and the data it represents are listed below:**\n",
        "\n",
        "1.hotel:Name of the hotel(Resort Hotel or City Hotel)\n",
        "\n",
        "2.is_canceled:If the booking was canceled(1) or(0)\n",
        "\n",
        "3.lead_time:Number of days before the actual arrival of the guests\n",
        "\n",
        "4.arrival_date_year:Year of arrival date\n",
        "\n",
        "5.arrival_date_month:Month of arrival date\n",
        "\n",
        "6.arrival_date_week_number:Week number of year for arrival date\n",
        "\n",
        "7.arrival_date_day_of_month:Day of arrival date\n",
        "\n",
        "8.stays_in_weekend_nights:Number of weekend nights (Saturday or Sunday)spentmat the hotel by the guests\n",
        "\n",
        "9.stays_in_week_nights:Number of weeknights(Monday to Friday)spent at the hotel by guests\n",
        "\n",
        "10.adults:Number of adults among guests.\n",
        "\n",
        "11.children:Number of children among guests.\n",
        "\n",
        "12.babies:Number of babies among guests.\n",
        "\n",
        "13.meal:Type of meal booked.\n",
        "\n",
        "14.country:Country of guests.\n",
        "\n",
        "15.market_segment:Desgnation of market segment\n",
        "\n",
        "16.distribution_channel:Name of booking distribution channel\n",
        "\n",
        "17.is_repeated_guest:If the booking was repeated guest(1) or not(0)\n",
        "\n",
        "18.previous_cancellation:Number of previous booking that were cancelled by the customer priorto the current booking.\n",
        "\n",
        "19.previous_bookings_not _canceled:Number of previous bookings nit cancelled by the customer prior to the current booking\n",
        "\n",
        "20.reseved_room_type:Code of room type reserved\n",
        "\n",
        "21.assigned_room_types:Code of room type assigned\n",
        "\n",
        "22.booking_changes:Number of changes/amenments made to the booking\n",
        "\n",
        "23.deposit_type:Type of the deposit made by the guest\n",
        "\n",
        "24.agent:ID of travel agent who made the booking\n",
        "\n",
        "25.company:ID of the company that made the booking\n",
        "\n",
        "26.days_in_waiting_list:Number of days the booking was in the waiting list\n",
        "\n",
        "27.customer_type:Type of customer,assuming one of four categories\n",
        "\n",
        "28.adr:Average Daily Rate,as defined by dividing the sum of all loading transactions by the total number of staying nights\n",
        "\n",
        "29.requried_car_parking_spaces:Number of car parking spacesb requried ny custmore\n",
        "\n",
        "30.total_of_special_requests:Number of speciaL requried made by the custmore\n",
        "\n",
        "31.reservation_status:Reservation status(Cancelled,Check-out or No-show)\n",
        "\n",
        "32.reservation_status_date:Date of which the last reservation status was updated\n",
        "\n"
      ],
      "metadata": {
        "id": "aJV4KIxSnxay"
      }
    },
    {
      "cell_type": "markdown",
      "source": [
        "### Check Unique Values for each variable."
      ],
      "metadata": {
        "id": "u3PMJOP6ngxN"
      }
    },
    {
      "cell_type": "code",
      "source": [
        "# Check Unique Values for each variable.\n",
        "print(hotel_booking_df.apply(lambda col: col.unique())) # We have describes unique value in all individual column."
      ],
      "metadata": {
        "id": "zms12Yq5n-jE"
      },
      "execution_count": null,
      "outputs": []
    },
    {
      "cell_type": "markdown",
      "source": [
        "## 3. ***Data Wrangling***"
      ],
      "metadata": {
        "id": "dauF4eBmngu3"
      }
    },
    {
      "cell_type": "code",
      "source": [
        "# lets check is the percentage of null value in each column, starting from company\n",
        "\n",
        "percentage_company_null = miss_values[0]/ uni_num_of_rows*100\n",
        "percentage_company_null\n"
      ],
      "metadata": {
        "id": "wk-9a2fpoLcV"
      },
      "execution_count": null,
      "outputs": []
    },
    {
      "cell_type": "code",
      "source": [
        "\n",
        "#to fill the NaN value in the column,let's check which colomns has null value, we have already stored the same\n",
        "miss_values[:5]"
      ],
      "metadata": {
        "id": "HtdW8AMGbdY_"
      },
      "execution_count": null,
      "outputs": []
    },
    {
      "cell_type": "code",
      "source": [
        "hotel_booking_df.drop(['company'], axis=1, inplace=True)"
      ],
      "metadata": {
        "id": "8iKvLIaUcEQf"
      },
      "execution_count": null,
      "outputs": []
    },
    {
      "cell_type": "code",
      "source": [
        "# now let's check for agent\n",
        "\n",
        "percentage_agent_null = miss_values[1]/uni_num_of_rows*100\n",
        "percentage_agent_null"
      ],
      "metadata": {
        "id": "o7jnJPHkc629"
      },
      "execution_count": null,
      "outputs": []
    },
    {
      "cell_type": "code",
      "source": [
        "#As we have seen, there is minimul null values in agent, let's fill these value by taking mode of the all values\n",
        "\n",
        "hotel_booking_df['agent'].fillna(value = 0, inplace = True)\n",
        "hotel_booking_df['agent'].isnull().sum() # we re-check that column has no null value"
      ],
      "metadata": {
        "id": "JS9ecW8ydawc"
      },
      "execution_count": null,
      "outputs": []
    },
    {
      "cell_type": "code",
      "source": [
        "#check the percentage null value in country col\n",
        "\n",
        "percentage_country_null = miss_values[2] / uni_num_of_rows * 100\n",
        "print(percentage_country_null)\n"
      ],
      "metadata": {
        "id": "_EZG9bVoeYKS"
      },
      "execution_count": null,
      "outputs": []
    },
    {
      "cell_type": "code",
      "source": [
        "# we have les  null values in country col,so we will replace null from'other' as company name\n",
        "\n",
        "hotel_booking_df['country'].fillna(value = 'others', inplace =True)\n",
        "hotel_booking_df['country'].isnull().sum() # we re-check that column has no null value"
      ],
      "metadata": {
        "id": "wHtOoYkefh5o"
      },
      "execution_count": null,
      "outputs": []
    },
    {
      "cell_type": "code",
      "source": [
        "#check the percentage null value in children col\n",
        "\n",
        "percentage_children_null = miss_values[3] / uni_num_of_rows * 100\n",
        "print(percentage_children_null)"
      ],
      "metadata": {
        "id": "pppKXrKCgkDO"
      },
      "execution_count": null,
      "outputs": []
    },
    {
      "cell_type": "code",
      "source": [
        "#let's check whether database having any other null value\n",
        "\n",
        "hotel_booking_df.isnull().sum() #As we have seen, no column has any null value"
      ],
      "metadata": {
        "id": "0HIDqRxmh7ks"
      },
      "execution_count": null,
      "outputs": []
    },
    {
      "cell_type": "code",
      "source": [
        "#change in datatype for requried columns\n",
        "\n",
        "#showing the info of the data to check datatype\n",
        "hotel_booking_df.info()"
      ],
      "metadata": {
        "id": "6Sb6t9NniLFm"
      },
      "execution_count": null,
      "outputs": []
    },
    {
      "cell_type": "code",
      "source": [
        "#total_stay in nights\n",
        "hotel_booking_df['total_stay_in_nights']= hotel_booking_df['stays_in_week_nights']+ hotel_booking_df['stays_in_weekend_nights']\n",
        "hotel_booking_df['total_stay_in_nights'] # we have created a col for total stays in nights by adding week night& weekend nights stay col"
      ],
      "metadata": {
        "id": "q__x77svik2K"
      },
      "execution_count": null,
      "outputs": []
    },
    {
      "cell_type": "code",
      "source": [
        "#we have creaqted a col for revenue using total stay * adr\n",
        "hotel_booking_df['revenue'] =hotel_booking_df['total_stay_in_nights'] *hotel_booking_df['adr']\n",
        "hotel_booking_df['revenue']"
      ],
      "metadata": {
        "id": "MVZZX3TOjfjA"
      },
      "execution_count": null,
      "outputs": []
    },
    {
      "cell_type": "code",
      "source": [
        "#Also,for information ,we will add a column with total guest coming for each booking\n",
        "hotel_booking_df['total_guest'] = hotel_booking_df['adults']+hotel_booking_df['children']+hotel_booking_df['babies']\n",
        "hotel_booking_df['total_guest'].sum()"
      ],
      "metadata": {
        "id": "EjS1UNPxkbdF"
      },
      "execution_count": null,
      "outputs": []
    },
    {
      "cell_type": "code",
      "source": [
        "#for understanding, from col 'is_canceled': we will replace the value from(0,1) to not_canceled, is canceled\n",
        "\n",
        "hotel_booking_df['is_canceled'] = hotel_booking_df['is_canceled'].replace([0, 1], ['not canceled', 'is canceled'])\n",
        "hotel_booking_df['is_canceled']"
      ],
      "metadata": {
        "id": "jGPbfOjNlP53"
      },
      "execution_count": null,
      "outputs": []
    },
    {
      "cell_type": "code",
      "source": [
        "#same for 'is_repeated_guest'col\n",
        "hotel_booking_df['is_repeated_guest']= hotel_booking_df['is_repeated_guest'].replace([0,1],['not repeated', 'repeated'])\n",
        "hotel_booking_df['is_repeated_guest']"
      ],
      "metadata": {
        "id": "fWyarol1mzqr"
      },
      "execution_count": null,
      "outputs": []
    },
    {
      "cell_type": "code",
      "source": [
        "#Now, we will check overall revenue hotel wise\n",
        "hotel_wise_total_revenue = hotel_booking_df.groupby('hotel')['revenue'].sum()\n",
        "hotel_wise_total_revenue"
      ],
      "metadata": {
        "id": "SAH14198o2Tw"
      },
      "execution_count": null,
      "outputs": []
    },
    {
      "cell_type": "code",
      "source": [
        "hotel_booking_df[['hotel',\"revenue\"]]"
      ],
      "metadata": {
        "id": "LiH8gjA0pWaY"
      },
      "execution_count": null,
      "outputs": []
    },
    {
      "cell_type": "markdown",
      "source": [
        "We only made a few changes to the data.\n",
        "\n",
        "**----Columns added----**\n",
        "\n",
        "We have seen that a few columns are needed in the data for analytical purposes,and theses columns can be evaluated.\n",
        "\n",
        "a)**Number of Guest:**We may assses the overall number of guest and income by using these columns .This value is obtained by summing the total number of adults,children and infants.\n",
        "\n",
        "b)**Income:**ADR and total guests are multiplied to find revenue.This columns will be used to examine each hotel's growth qand profitability.\n",
        "\n",
        "**----Columns deleted----**\n",
        "\n",
        "a)**company** As we can see,this column almost has no data.As a result,we had to eliminate this column because it had no bearing on the analysis.\n",
        "\n",
        "**Replace values in columns by**\n",
        "\n",
        "Is cancelled,is not cancelled, and is a repeat visitor:As we've seen, these columns only hold the value of 0,1 to indicate that the boycott is now being cancelled.These values(0,1)from \"Cancelled\" & \"Not cancellled\" are changed.The same procedure is used to change 0,1 from \"Repeated\" and \"Not repeated\" in the coulmn\"is_repeated_guest\".These values will now facillitate greater comprehension during visuallisatiopn.\n",
        "\n",
        "**----Changes to the values 'data types in columns--**\n",
        "\n",
        "a)**Agent & Kids:**We verified that these columns contain float values,which don't make sense in the dat because they represents the guest count and agent ID.Therefore, we have updated the 'float'data type of these columns to 'Integer'.\n",
        "\n",
        "**--Removed duplicate entries and is_null_values--**\n",
        "\n",
        "a)**Data wrangling must be done before any data from the data set can be visualised**\n",
        "\n",
        "Data wrangling must be done before any data from the dataset can be visualised.We have examined each column's null value in order to determine that.After checking,drop the column using the 'drop'method if we find one that has a greater percentage of null values. We are so removed from the \"company\"column.When there are only a few null values using the.fiollna() function.\n",
        "\n",
        "b)In the same, we looked to see whether there was any data duplicate and discovered that a few rows had duplicate data.As a resukt,we used the.drop_duplicate() method to delete those rows from the data set.\n",
        "\n",
        "By doing this, we have eliminated any unnecessary data.\n"
      ],
      "metadata": {
        "id": "184XVyB6pyk3"
      }
    },
    {
      "cell_type": "markdown",
      "source": [
        "## ***4. Data Vizualization, Storytelling & Experimenting with charts : Understand the relationships between variables***"
      ],
      "metadata": {
        "id": "GF8Ens_Soomf"
      }
    },
    {
      "cell_type": "markdown",
      "source": [
        "#### Chart - 1"
      ],
      "metadata": {
        "id": "0wOQAZs5pc--"
      }
    },
    {
      "cell_type": "code",
      "source": [
        "#Let's create a function which ill give us bar chart of dat respective with a col.\n",
        "def get_count_from_column_bar(df,column_label):\n",
        "  df_grpd =df[column_label].value_counts()\n",
        "  df_grpd = pd.DataFrame({'index':df_grpd.index, 'count':df_grpd.values})\n",
        "  return df_grpd\n",
        "\n",
        "\n",
        "\n",
        "def plot_bar_chart_from_column(df, column_label, t1):\n",
        "  df_grpd =get_count_from_column(df, column_label)\n",
        "  fig, ax =plt.subplots(figsize=(14,6))\n",
        "  c=['g','r','b','c','y']\n",
        "  ax.bar(df_grpd['index'], df_grpd['count'],width =0.4,align ='edege',edgecolor ='black',linewidhth =4,color =c,linestyle =':',alpha =0.5)\n",
        "  plt.title(t1,bbox={'facecolor':'0.8','pad':3})\n",
        "  plt.legend()\n",
        "  plt.ylabel('count')\n",
        "  plt.xticks(rotation = 15) #Use to format the lable of x-axis\n",
        "  #plt.xlabel(column_label)f\n",
        "  plt.show()\n"
      ],
      "metadata": {
        "id": "gi5KRdPPyC-m"
      },
      "execution_count": null,
      "outputs": []
    },
    {
      "cell_type": "code",
      "source": [
        "# Chart - 1 visualization code\n",
        "\n",
        "\n",
        "def get_count_from_column(df, column_label):\n",
        "  df_grpd = df[column_label].value_counts()\n",
        "  df_grpd = pd.DataFrame({'index':df_grpd.index,'count':df_grpd.values})\n",
        "  return df_grpd\n",
        "\n",
        "def plot_pie_chart_from_column(df, column_label, t1, exp):\n",
        "  df_grpd = get_count_from_column(df, column_label)\n",
        "  fig, ax = plt.subplots(figsize=(14, 9))\n",
        "  ax.pie(df_grpd.loc[:,'count'], labels=df_grpd.loc[:,'index'],autopct = '%1.2f%%',startangle=90,labeldistance = 1.2,explode = exp)\n",
        "  plt.title(t1, bbox={'facecolor':'0.8','pad':3})\n",
        "  ax.axis('equal')\n",
        "  plt.legend()\n",
        "  plt.show()"
      ],
      "metadata": {
        "id": "7v_ESjsspbW7"
      },
      "execution_count": null,
      "outputs": []
    },
    {
      "cell_type": "code",
      "source": [
        "exp1 =[0.05,0.05]\n",
        "plot_pie_chart_from_column(hotel_booking_df,'hotel', 'Booking percentage of Hotel by Name', exp1)"
      ],
      "metadata": {
        "id": "7qGZm4Ch6eYo"
      },
      "execution_count": null,
      "outputs": []
    },
    {
      "cell_type": "markdown",
      "source": [
        "##### 1. Why did you pick the specific chart?"
      ],
      "metadata": {
        "id": "K5QZ13OEpz2H"
      }
    },
    {
      "cell_type": "markdown",
      "source": [
        "to present the dat that in ehich hotel more booking have been done"
      ],
      "metadata": {
        "id": "XESiWehPqBRc"
      }
    },
    {
      "cell_type": "markdown",
      "source": [
        "##### 2. What is/are the insight(s) found from the chart?"
      ],
      "metadata": {
        "id": "lQ7QKXXCp7Bj"
      }
    },
    {
      "cell_type": "markdown",
      "source": [
        "\n",
        "*Here, we found that the booking number is Higher in city hotel which is 61.13% than Resort hotel which is38.87%.Hence we can say that City hotel has more consumption.*"
      ],
      "metadata": {
        "id": "C_j1G7yiqdRP"
      }
    },
    {
      "cell_type": "markdown",
      "source": [
        "##### 3. Will the gained insights help creating a positive business impact?\n",
        "Are there any insights that lead to negative growth? Justify with specific reason."
      ],
      "metadata": {
        "id": "448CDAPjqfQr"
      }
    },
    {
      "cell_type": "markdown",
      "source": [
        "\n",
        "*Yes,  for both hotels, this dat making some positive business impact:-*\n",
        "\n",
        "City hotel:-Provided more services to attract bmore guest to increase more revenue.\n",
        "\n",
        "Resort hotel:-Find solution to attract guest and find what hotel did to attract guest."
      ],
      "metadata": {
        "id": "3cspy4FjqxJW"
      }
    },
    {
      "cell_type": "markdown",
      "source": [
        "#### Chart - 2"
      ],
      "metadata": {
        "id": "KSlN3yHqYklG"
      }
    },
    {
      "cell_type": "code",
      "source": [
        "# Chart - 2 visualization code\n",
        "exp4 =[0,0.1]\n",
        "plot_pie_chart_from_column(hotel_booking_df,'is_canceled','Cancellation volume of Hotel',exp4)"
      ],
      "metadata": {
        "id": "R4YgtaqtYklH"
      },
      "execution_count": null,
      "outputs": []
    },
    {
      "cell_type": "markdown",
      "source": [
        "##### 1. Why did you pick the specific chart?"
      ],
      "metadata": {
        "id": "t6dVpIINYklI"
      }
    },
    {
      "cell_type": "markdown",
      "source": [
        "In this chart, we provided the cancellation rate of the hotel booking"
      ],
      "metadata": {
        "id": "5aaW0BYyYklI"
      }
    },
    {
      "cell_type": "markdown",
      "source": [
        "\n",
        "##### 2. What is/are the insight(s) found from the chart?"
      ],
      "metadata": {
        "id": "ijmpgYnKYklI"
      }
    },
    {
      "cell_type": "markdown",
      "source": [
        "Here, we founf that overall more than 25% of booking got cancellation"
      ],
      "metadata": {
        "id": "PSx9atu2YklI"
      }
    },
    {
      "cell_type": "markdown",
      "source": [
        "##### 3. Will the gained insights help creating a positive business impact?\n",
        "Are there any insights that lead to negative growth? Justify with specific reason."
      ],
      "metadata": {
        "id": "-JiQyfWJYklI"
      }
    },
    {
      "cell_type": "markdown",
      "source": [
        "Here, we can see ,that more than 27% booking geeting cancelled.\n",
        "\n",
        "Solution:we can check the reason of cancelation of a booking & need to get this sort on businesss level."
      ],
      "metadata": {
        "id": "BcBbebzrYklV"
      }
    },
    {
      "cell_type": "markdown",
      "source": [
        "#### Chart - 3"
      ],
      "metadata": {
        "id": "EM7whBJCYoAo"
      }
    },
    {
      "cell_type": "code",
      "source": [
        "import matplotlib.pyplot as plt\n",
        "import pandas as pd\n",
        "\n",
        "def plot_bar_chart_from_column(dataframe, column_name, title):\n",
        "    # Group by the specified column and get the count of each unique value\n",
        "    data_counts = dataframe[column_name].value_counts()\n",
        "\n",
        "    # Plotting the bar chart\n",
        "    data_counts.plot(kind='bar', color='skyblue', edgecolor='black')\n",
        "\n",
        "    # Adding labels and title\n",
        "    plt.xlabel(column_name)\n",
        "    plt.ylabel('Count')\n",
        "    plt.title(title)\n",
        "\n",
        "    # Display the plot\n",
        "    plt.show()\n",
        "\n",
        "# Assuming 'hotel_booking_df' is your DataFrame\n",
        "plot_bar_chart_from_column(hotel_booking_df, 'distribution_channel', 'Distribution Channel Volume')\n"
      ],
      "metadata": {
        "id": "foChYV8n_5AE"
      },
      "execution_count": null,
      "outputs": []
    },
    {
      "cell_type": "markdown",
      "source": [
        "##### 1. Why did you pick the specific chart?"
      ],
      "metadata": {
        "id": "fge-S5ZAYoAp"
      }
    },
    {
      "cell_type": "markdown",
      "source": [
        "The following chart represent maximum volume of booking done through which channel is desending  orde we chose bar graph."
      ],
      "metadata": {
        "id": "5dBItgRVYoAp"
      }
    },
    {
      "cell_type": "markdown",
      "source": [
        "##### 2. What is/are the insight(s) found from the chart?"
      ],
      "metadata": {
        "id": "85gYPyotYoAp"
      }
    },
    {
      "cell_type": "markdown",
      "source": [
        "As clearly seen TA/TO (tour of agent and tour of opreator) is highest, recommending to continue bokking through TA/TO."
      ],
      "metadata": {
        "id": "4jstXR6OYoAp"
      }
    },
    {
      "cell_type": "markdown",
      "source": [
        "##### 3. Will the gained insights help creating a positive business impact?\n",
        "Are there any insights that lead to negative growth? Justify with specific reason."
      ],
      "metadata": {
        "id": "RoGjAbkUYoAp"
      }
    },
    {
      "cell_type": "markdown",
      "source": [
        "Yes this shows positive bussiness impact.\n",
        "\n",
        "Higher the number  of TA/TO will help to increase the revenue generation of hotel."
      ],
      "metadata": {
        "id": "zfJ8IqMcYoAp"
      }
    },
    {
      "cell_type": "markdown",
      "source": [
        "#### Chart - 4"
      ],
      "metadata": {
        "id": "4Of9eVA-YrdM"
      }
    },
    {
      "cell_type": "code",
      "source": [
        "# Chart - 4 visualization code\n",
        "exp2 =[0.2,0,0,0,0,0,0,0,0,0,0,0]\n",
        "plot_pie_chart_from_column(hotel_booking_df,'arrival_date_month','Month-wise booking',exp2)"
      ],
      "metadata": {
        "id": "irlUoxc8YrdO"
      },
      "execution_count": null,
      "outputs": []
    },
    {
      "cell_type": "markdown",
      "source": [
        "##### 1. Why did you pick the specific chart?"
      ],
      "metadata": {
        "id": "iky9q4vBYrdO"
      }
    },
    {
      "cell_type": "markdown",
      "source": [
        "To show the percentage share of booking in eacg month, on overall level"
      ],
      "metadata": {
        "id": "aJRCwT6DYrdO"
      }
    },
    {
      "cell_type": "markdown",
      "source": [
        "##### 2. What is/are the insight(s) found from the chart?"
      ],
      "metadata": {
        "id": "F6T5p64dYrdO"
      }
    },
    {
      "cell_type": "markdown",
      "source": [
        "The above percentage shows month May,July and Aug are the highest booking months due to holidays season. Recommending aggressive advertisment to lure more ande more custmores."
      ],
      "metadata": {
        "id": "Xx8WAJvtYrdO"
      }
    },
    {
      "cell_type": "markdown",
      "source": [
        "##### 3. Will the gained insights help creating a positive business impact?\n",
        "Are there any insights that lead to negative growth? Justify with specific reason."
      ],
      "metadata": {
        "id": "y-Ehk30pYrdP"
      }
    },
    {
      "cell_type": "markdown",
      "source": [
        "Yes, with increased volume of visitors will help hotel to manage revenue in down time ,will also help employee satisfaction and retention,"
      ],
      "metadata": {
        "id": "jLNxxz7MYrdP"
      }
    },
    {
      "cell_type": "markdown",
      "source": [
        "#### Chart - 5"
      ],
      "metadata": {
        "id": "bamQiAODYuh1"
      }
    },
    {
      "cell_type": "code",
      "source": [
        "# Chart - 5 visualization code\n",
        "exp3=[0,0.2]\n",
        "plot_pie_chart_from_column(hotel_booking_df,'is_repeated_guest','Guest repeating status',exp3)"
      ],
      "metadata": {
        "id": "pc76nCygIKh7"
      },
      "execution_count": null,
      "outputs": []
    },
    {
      "cell_type": "markdown",
      "source": [
        "##### 1. Why did you pick the specific chart?"
      ],
      "metadata": {
        "id": "QHF8YVU7Yuh3"
      }
    },
    {
      "cell_type": "markdown",
      "source": [
        "To show the percentage share of repeated & non repeated  guest"
      ],
      "metadata": {
        "id": "dcxuIMRPYuh3"
      }
    },
    {
      "cell_type": "markdown",
      "source": [
        "##### 2. What is/are the insight(s) found from the chart?"
      ],
      "metadata": {
        "id": "GwzvFGzlYuh3"
      }
    },
    {
      "cell_type": "markdown",
      "source": [
        "Here, we can see that the numberb of repeated guest is very less as compared to overall guests.\n"
      ],
      "metadata": {
        "id": "uyqkiB8YYuh3"
      }
    },
    {
      "cell_type": "markdown",
      "source": [
        "##### 3. Will the gained insights help creating a positive business impact?\n",
        "Are there any insights that lead to negative growth? Justify with specific reason."
      ],
      "metadata": {
        "id": "qYpmQ266Yuh3"
      }
    },
    {
      "cell_type": "markdown",
      "source": [
        "We can give alluring offerts to non -reptive customers during off season to enhance revenue"
      ],
      "metadata": {
        "id": "_WtzZ_hCYuh4"
      }
    },
    {
      "cell_type": "markdown",
      "source": [
        "#### Chart - 6"
      ],
      "metadata": {
        "id": "OH-pJp9IphqM"
      }
    },
    {
      "cell_type": "code",
      "source": [
        "# Chart - 6 visualization code\n",
        "plot_bar_chart_from_column(hotel_booking_df,'assigned_room_type','Assigment of room by type')"
      ],
      "metadata": {
        "id": "kuRf4wtuphqN"
      },
      "execution_count": null,
      "outputs": []
    },
    {
      "cell_type": "markdown",
      "source": [
        "##### 1. Why did you pick the specific chart?"
      ],
      "metadata": {
        "id": "bbFf2-_FphqN"
      }
    },
    {
      "cell_type": "markdown",
      "source": [
        "to show distribution by volume , which room is alotted"
      ],
      "metadata": {
        "id": "loh7H2nzphqN"
      }
    },
    {
      "cell_type": "markdown",
      "source": [
        "##### 2. What is/are the insight(s) found from the chart?"
      ],
      "metadata": {
        "id": "_ouA3fa0phqN"
      }
    },
    {
      "cell_type": "markdown",
      "source": [
        "This chart shows room type 'A' is most prefered by guest"
      ],
      "metadata": {
        "id": "VECbqPI7phqN"
      }
    },
    {
      "cell_type": "markdown",
      "source": [
        "##### 3. Will the gained insights help creating a positive business impact?\n",
        "Are there any insights that lead to negative growth? Justify with specific reason."
      ],
      "metadata": {
        "id": "Seke61FWphqN"
      }
    },
    {
      "cell_type": "markdown",
      "source": [
        "yes, positive impact because 'A','D','E' is more prefered by guest due to better sevices offered in room type"
      ],
      "metadata": {
        "id": "DW4_bGpfphqN"
      }
    },
    {
      "cell_type": "markdown",
      "source": [
        "#### Chart - 7"
      ],
      "metadata": {
        "id": "PIIx-8_IphqN"
      }
    },
    {
      "cell_type": "code",
      "source": [
        "# Chart - 7 visualization code\n",
        "market_segment_df = pd.DataFrame(hotel_booking_df['market_segment'])\n",
        "market_segment_df_date = market_segment_df.groupby('market_segment')['market_segment'].count()\n",
        "market_segment_df_date.sort_values(ascending=False, inplace=True)\n",
        "plt.figure(figsize=(15, 6))\n",
        "y = np.array([4, 5, 6])\n",
        "market_segment_df_date.plot(kind='bar', color=['r', 'g', 'y', 'b', 'pink', 'black', 'brown'], fontsize=20, legend=True)"
      ],
      "metadata": {
        "id": "fvuJ7S12M7A1"
      },
      "execution_count": null,
      "outputs": []
    },
    {
      "cell_type": "markdown",
      "source": [
        "##### 1. Why did you pick the specific chart?"
      ],
      "metadata": {
        "id": "t27r6nlMphqO"
      }
    },
    {
      "cell_type": "markdown",
      "source": [
        "IN this chart,we have seen market by which hotel has booked"
      ],
      "metadata": {
        "id": "iv6ro40sphqO"
      }
    },
    {
      "cell_type": "markdown",
      "source": [
        "##### 2. What is/are the insight(s) found from the chart?"
      ],
      "metadata": {
        "id": "r2jJGEOYphqO"
      }
    },
    {
      "cell_type": "markdown",
      "source": [
        "Online TA/ has been used most frequently to book hotel by the guest"
      ],
      "metadata": {
        "id": "Po6ZPi4hphqO"
      }
    },
    {
      "cell_type": "markdown",
      "source": [
        "##### 3. Will the gained insights help creating a positive business impact?\n",
        "Are there any insights that lead to negative growth? Justify with specific reason."
      ],
      "metadata": {
        "id": "b0JNsNcRphqO"
      }
    },
    {
      "cell_type": "markdown",
      "source": [
        "yes , it is creating positive business impact that guest are using online TA market segment as most prefered to book hotels"
      ],
      "metadata": {
        "id": "xvSq8iUTphqO"
      }
    },
    {
      "cell_type": "markdown",
      "source": [
        "#### Chart - 8"
      ],
      "metadata": {
        "id": "BZR9WyysphqO"
      }
    },
    {
      "cell_type": "code",
      "source": [
        "# Chart - 8 visualization code\n",
        "import pandas as pd\n",
        "import matplotlib.pyplot as plt\n",
        "\n",
        "# Assuming 'hotel_booking_df' is your DataFrame\n",
        "guest_country_wise = pd.DataFrame(hotel_booking_df[['country', 'total_guest']])\n",
        "guest_country_wise_df = guest_country_wise.groupby(['country'])['total_guest'].sum()\n",
        "guest_country_wise_df = guest_country_wise_df.sort_values(ascending=False)\n",
        "top_10_country_by_guest = guest_country_wise_df.head(10)\n",
        "\n",
        "# Plotting the bar chart\n",
        "top_10_country_by_guest.plot(kind='bar', color='skyblue', edgecolor='black')\n",
        "\n",
        "# Adding labels and title\n",
        "plt.xlabel('Country')\n",
        "plt.ylabel('Total Guests')\n",
        "plt.title('Top 10 Countries by Total Guests')\n",
        "\n",
        "# Display the plot\n",
        "plt.show()\n"
      ],
      "metadata": {
        "id": "TdPTWpAVphqO"
      },
      "execution_count": null,
      "outputs": []
    },
    {
      "cell_type": "markdown",
      "source": [
        "#### Chart - 9"
      ],
      "metadata": {
        "id": "YJ55k-q6phqO"
      }
    },
    {
      "cell_type": "code",
      "source": [
        "# Chart - 9 visualization code\n",
        "average_adr =hotel_booking_df.groupby('hotel')['adr'].mean()\n",
        "average_adr\n",
        "plt.subplots(figsize=(8,5))\n",
        "average_adr.plot(kind ='barh',color =('g','r'))\n",
        "plt.xlabel(\"Average ADR\", fontdict={'fontsize':12,'fontweight':5,'color':'brown'})\n",
        "plt.ylabel(\"Hotel Name\", fontdict={'fontsize':12,'fontweight':5,'color':'Brown'})\n",
        "plt.title(\"Average ADR of Hotel\", fontdict={'fontsize':12,'fontweight':5,'color':'Green'})"
      ],
      "metadata": {
        "id": "B2aS4O1ophqO"
      },
      "execution_count": null,
      "outputs": []
    },
    {
      "cell_type": "markdown",
      "source": [
        "#### Chart - 10"
      ],
      "metadata": {
        "id": "U2RJ9gkRphqQ"
      }
    },
    {
      "cell_type": "code",
      "source": [
        "import matplotlib.pyplot as plt\n",
        "import pandas as pd\n",
        "\n",
        "plt.figure(figsize=(8, 5))\n",
        "\n",
        "# Assuming 'hotel_booking_df' is your DataFrame and you have a 'revenue' column\n",
        "hotel_wise_revenue = hotel_booking_df.groupby('hotel')['revenue'].sum()\n",
        "\n",
        "# Plotting the bar chart\n",
        "hotel_wise_revenue.plot(kind='bar', color=['skyblue', 'lightcoral'], edgecolor='black')\n",
        "\n",
        "# Adding labels and title\n",
        "plt.xlabel('Hotel')\n",
        "plt.ylabel('Total Revenue')\n",
        "plt.title('Hotel-wise Revenue')\n",
        "\n",
        "# Display the plot\n",
        "plt.show()\n"
      ],
      "metadata": {
        "id": "E2aVMXnWV-4t"
      },
      "execution_count": null,
      "outputs": []
    },
    {
      "cell_type": "markdown",
      "source": [
        "#### Chart - 12"
      ],
      "metadata": {
        "id": "n3dbpmDWp1ck"
      }
    },
    {
      "cell_type": "code",
      "source": [
        "# Chart - 12 visualization code\n",
        "plt.figure(figsize = (12,10),dpi =100)\n",
        "hotel_wise_meal =hotel_booking_df.groupby(['hotel','meal'])['meal'].count().unstack()\n",
        "hotel_wise_meal.plot(kind ='bar',figsize=(12,8))\n",
        "hotel_wise_meal"
      ],
      "metadata": {
        "id": "bwevp1tKp1ck"
      },
      "execution_count": null,
      "outputs": []
    },
    {
      "cell_type": "markdown",
      "source": [
        "#### Chart - 14 - Correlation Heatmap"
      ],
      "metadata": {
        "id": "NC_X3p0fY2L0"
      }
    },
    {
      "cell_type": "code",
      "source": [
        "# Correlation Heatmap visualization code\n",
        "import seaborn as sns\n",
        "import matplotlib.pyplot as plt\n",
        "\n",
        "# Assuming 'hotel_booking_df' is your DataFrame\n",
        "correlation_matrix = hotel_booking_df.corr()\n",
        "\n",
        "# Set up the matplotlib figure\n",
        "plt.figure(figsize=(10, 8))\n",
        "\n",
        "# Create a heatmap using Seaborn\n",
        "sns.heatmap(correlation_matrix, annot=True, cmap='coolwarm', fmt=\".2f\", linewidths=.5)\n",
        "\n",
        "# Adding title\n",
        "plt.title('Correlation Heatmap')\n",
        "\n",
        "# Display the plot\n",
        "plt.show()\n"
      ],
      "metadata": {
        "id": "xyC9zolEZNRQ"
      },
      "execution_count": null,
      "outputs": []
    },
    {
      "cell_type": "markdown",
      "source": [
        "**chart:15 ** plot pair chart"
      ],
      "metadata": {
        "id": "368jAiVGIk0A"
      }
    },
    {
      "cell_type": "code",
      "source": [
        "import pandas as pd\n",
        "import seaborn as sns\n",
        "import matplotlib.pyplot as plt\n",
        "\n",
        "# Assuming you have a DataFrame named 'hotel_data'\n",
        "# Replace this with your actual dataset\n",
        "\n",
        "# Sample data\n",
        "data = {\n",
        "    'is_canceled': [0, 1, 1, 0, 0, 1, 0, 1, 0, 1],\n",
        "    'lead_time': [30, 15, 45, 60, 20, 10, 25, 35, 50, 40],\n",
        "    'adults': [2, 1, 2, 1, 2, 1, 2, 2, 1, 2],\n",
        "    'children': [0, 0, 1, 0, 2, 0, 1, 0, 0, 1],\n",
        "    'previous_bookings': [1, 0, 2, 0, 1, 3, 0, 2, 1, 0],\n",
        "    'stays_in_weekend_nights': [2, 1, 2, 1, 3, 0, 1, 2, 1, 0],\n",
        "    'stays_in_week_nights': [3, 2, 4, 3, 2, 1, 2, 3, 4, 2],\n",
        "    'total_guests': [2, 1, 3, 1, 4, 1, 3, 2, 1, 3],\n",
        "}\n",
        "\n",
        "hotel_data = pd.DataFrame(data)\n",
        "\n",
        "# Pair plot\n",
        "sns.pairplot(hotel_data, hue='is_canceled', palette='Set1')\n",
        "plt.show()\n"
      ],
      "metadata": {
        "id": "6BvElvgLHaYh"
      },
      "execution_count": null,
      "outputs": []
    },
    {
      "cell_type": "markdown",
      "source": [
        "# **Conclusion**"
      ],
      "metadata": {
        "id": "gCX9965dhzqZ"
      }
    },
    {
      "cell_type": "markdown",
      "source": [
        "1.City hotel generate greater income and profit and appears to be more popular among travellers.\n",
        "\n",
        "2.Compared to the other months, the majority of reservations are made in july and august.\n",
        "\n",
        "3.Travellers favour accommodation Type A over all  other accommodation types.\n",
        "\n",
        "4.Portugal and the United Kingdom make the m ost reservattion.\n",
        "\n",
        "5.The majority of visitors stays in hotels for 1-4 days.\n",
        "\n",
        "6.The city hotel keeps a large number of visitors.\n",
        "\n",
        "7.About one fourth of all reservation are cancelled.City hotel is the source of more cancellation.\n",
        "\n",
        "8.Compared to returning custmore ,new guests frequently cancel reservation.\n",
        "\n",
        "9.Booking cancellation are unaffected by lead time,waiting list length, or client assignment of a reserved room.\n",
        "\n",
        "10.Corporate has the most percentage of repeated guest while TA/TO has the least whereas in the case of cancelled bookings TA/TO has the most percentage while corporate has the least.\n",
        "\n",
        "11.The length of the stay decrease as ADR incfrease probadky to reduce the cost.\n"
      ],
      "metadata": {
        "id": "Fjb1IsQkh3yE"
      }
    },
    {
      "cell_type": "markdown",
      "source": [
        "### ***Hurrah! You have successfully completed your EDA Capstone Project !!!***"
      ],
      "metadata": {
        "id": "gIfDvo9L0UH2"
      }
    }
  ]
}